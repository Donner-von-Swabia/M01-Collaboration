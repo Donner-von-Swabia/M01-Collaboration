{
 "cells": [
  {
   "cell_type": "code",
   "execution_count": 2,
   "id": "c15a8552",
   "metadata": {},
   "outputs": [
    {
     "name": "stdout",
     "output_type": "stream",
     "text": [
      "3600\n"
     ]
    }
   ],
   "source": [
    "num_sec_in_min=60\n",
    "num_min_in_hour=60\n",
    "print(num_sec_in_min * num_min_in_hour)"
   ]
  },
  {
   "cell_type": "code",
   "execution_count": 3,
   "id": "8f5373d3",
   "metadata": {},
   "outputs": [
    {
     "name": "stdout",
     "output_type": "stream",
     "text": [
      "3600\n"
     ]
    }
   ],
   "source": [
    "num_sec_in_min=60\n",
    "num_min_in_hour=60\n",
    "seconds_per_hour = num_sec_in_min * num_min_in_hour\n",
    "print(seconds_per_hour)"
   ]
  },
  {
   "cell_type": "code",
   "execution_count": 4,
   "id": "8fb0d33c",
   "metadata": {},
   "outputs": [
    {
     "name": "stdout",
     "output_type": "stream",
     "text": [
      "86400\n"
     ]
    }
   ],
   "source": [
    "num_hour_in_day = 24\n",
    "print(num_hour_in_day * seconds_per_hour)"
   ]
  },
  {
   "cell_type": "code",
   "execution_count": 5,
   "id": "267579dd",
   "metadata": {},
   "outputs": [],
   "source": [
    "seconds_per_day = (num_hour_in_day * seconds_per_hour)\n"
   ]
  },
  {
   "cell_type": "code",
   "execution_count": 6,
   "id": "7a7b3702",
   "metadata": {},
   "outputs": [
    {
     "name": "stdout",
     "output_type": "stream",
     "text": [
      "24.0\n"
     ]
    }
   ],
   "source": [
    "print(seconds_per_day / seconds_per_hour)"
   ]
  },
  {
   "cell_type": "code",
   "execution_count": 7,
   "id": "20547295",
   "metadata": {},
   "outputs": [
    {
     "name": "stdout",
     "output_type": "stream",
     "text": [
      "24\n"
     ]
    }
   ],
   "source": [
    "print(seconds_per_day//seconds_per_hour)\n"
   ]
  },
  {
   "cell_type": "code",
   "execution_count": 8,
   "id": "769b73df",
   "metadata": {},
   "outputs": [],
   "source": [
    "#To the human eye both outputs are the same, but 24.0 is a float and is not equal to 24 if you changed the data type to match the they would be identitical\n"
   ]
  },
  {
   "cell_type": "code",
   "execution_count": null,
   "id": "75f19552",
   "metadata": {},
   "outputs": [],
   "source": []
  }
 ],
 "metadata": {
  "kernelspec": {
   "display_name": "Python 3 (ipykernel)",
   "language": "python",
   "name": "python3"
  },
  "language_info": {
   "codemirror_mode": {
    "name": "ipython",
    "version": 3
   },
   "file_extension": ".py",
   "mimetype": "text/x-python",
   "name": "python",
   "nbconvert_exporter": "python",
   "pygments_lexer": "ipython3",
   "version": "3.9.13"
  }
 },
 "nbformat": 4,
 "nbformat_minor": 5
}
