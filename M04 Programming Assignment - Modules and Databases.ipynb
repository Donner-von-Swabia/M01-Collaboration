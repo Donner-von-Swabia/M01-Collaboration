{
 "cells": [
  {
   "cell_type": "code",
   "execution_count": 9,
   "id": "3e7697b3",
   "metadata": {},
   "outputs": [
    {
     "ename": "ModuleNotFoundError",
     "evalue": "No module named 'zoo'",
     "output_type": "error",
     "traceback": [
      "\u001b[1;31m---------------------------------------------------------------------------\u001b[0m",
      "\u001b[1;31mModuleNotFoundError\u001b[0m                       Traceback (most recent call last)",
      "\u001b[1;32m~\\AppData\\Local\\Temp\\ipykernel_16724\\2929559130.py\u001b[0m in \u001b[0;36m<module>\u001b[1;34m\u001b[0m\n\u001b[1;32m----> 1\u001b[1;33m \u001b[1;32mimport\u001b[0m \u001b[0mzoo\u001b[0m\u001b[1;33m\u001b[0m\u001b[1;33m\u001b[0m\u001b[0m\n\u001b[0m\u001b[0;32m      2\u001b[0m \u001b[0mzoo\u001b[0m\u001b[1;33m.\u001b[0m\u001b[0mhours\u001b[0m\u001b[1;33m(\u001b[0m\u001b[1;33m)\u001b[0m\u001b[1;33m\u001b[0m\u001b[1;33m\u001b[0m\u001b[0m\n\u001b[0;32m      3\u001b[0m \u001b[1;31m# This works in Python 3.10 IDLE, because jupyter uses a temp of the file it can not find zoo.py\u001b[0m\u001b[1;33m\u001b[0m\u001b[1;33m\u001b[0m\u001b[0m\n",
      "\u001b[1;31mModuleNotFoundError\u001b[0m: No module named 'zoo'"
     ]
    }
   ],
   "source": [
    "import zoo\n",
    "zoo.hours()\n",
    "# This works in Python 3.10 IDLE, because jupyter uses a temp of the file it can not find zoo.py"
   ]
  },
  {
   "cell_type": "code",
   "execution_count": 10,
   "id": "fc619d4c",
   "metadata": {},
   "outputs": [
    {
     "ename": "ModuleNotFoundError",
     "evalue": "No module named 'zoo'",
     "output_type": "error",
     "traceback": [
      "\u001b[1;31m---------------------------------------------------------------------------\u001b[0m",
      "\u001b[1;31mModuleNotFoundError\u001b[0m                       Traceback (most recent call last)",
      "\u001b[1;32m~\\AppData\\Local\\Temp\\ipykernel_16724\\943166381.py\u001b[0m in \u001b[0;36m<module>\u001b[1;34m\u001b[0m\n\u001b[1;32m----> 1\u001b[1;33m \u001b[1;32mimport\u001b[0m \u001b[0mzoo\u001b[0m \u001b[1;32mas\u001b[0m \u001b[0mmenagerie\u001b[0m\u001b[1;33m\u001b[0m\u001b[1;33m\u001b[0m\u001b[0m\n\u001b[0m\u001b[0;32m      2\u001b[0m \u001b[0mmenagerie\u001b[0m\u001b[1;33m.\u001b[0m\u001b[0mhours\u001b[0m\u001b[1;33m(\u001b[0m\u001b[1;33m)\u001b[0m\u001b[1;33m\u001b[0m\u001b[1;33m\u001b[0m\u001b[0m\n",
      "\u001b[1;31mModuleNotFoundError\u001b[0m: No module named 'zoo'"
     ]
    }
   ],
   "source": [
    "import zoo as menagerie\n",
    "menagerie.hours()\n",
    "#This works in Python 3.10 IDLE, same issue as 11.1\n"
   ]
  },
  {
   "cell_type": "code",
   "execution_count": null,
   "id": "8ba885b7",
   "metadata": {},
   "outputs": [],
   "source": [
    "import csv\n",
    "books = [\n",
    "    {'title':'The Weridstone of Brisingamen', 'author':'Alan Garner','year':1960},\n",
    "    {'title':'Perdido Street Station','author':'China Mieville','year':2000},\n",
    "    {'title':'Thud!','author':'Pratchett','year':2005},\n",
    "    {'title':'The Spellman Files','author':'Lisa Lutz','year':2007},\n",
    "    {'title':'Small Gods','author':'Terry Pratchett','year':1992},\n",
    "]\n",
    "with open('books.txt','wt') as fout:\n",
    "    cout = csv.DictWriter(fout,['title','author','year'])\n",
    "    cout.writeheader()\n",
    "    cout.writerows(books)\n",
    "\n",
    "with open('books.txt','rt') as fin:\n",
    "    cin = csv.DictReader(fin)\n",
    "    books = [row for row in cin]\n",
    "\n",
    "print(books)\n",
    "print(type(books))\n",
    "print(books[0])\n",
    "print(type(books[0]))\n",
    "print(len(books))\n",
    "for x in range(len(books)):\n",
    "    title =((books[x])['title'])\n",
    "    author =((books[x]['author']))\n",
    "    year = ((books[x]['year']))\n",
    "    print(title,author,year)"
   ]
  },
  {
   "cell_type": "code",
   "execution_count": null,
   "id": "8145d2f9",
   "metadata": {},
   "outputs": [],
   "source": [
    "import sqlite3\n",
    "import csv\n",
    "\n",
    "conn = sqlite3.connect('books.db')\n",
    "curs = conn.cursor()\n",
    "curs.execute('''CREATE TABLE BOOKS\n",
    "(title TEXT, author TEXT, year INT)''')\n",
    "\n",
    "with open('books.txt','rt') as fin:\n",
    "    cin = csv.DictReader(fin)\n",
    "    books = [row for row in cin]\n",
    "\n",
    "for x in range(len(books)):\n",
    "    title =((books[x])['title'])\n",
    "    author =((books[x]['author']))\n",
    "    year = ((books[x]['year']))\n",
    "    ins = 'INSERT INTO books (title,author,year) VALUES(?,?,?)'\n",
    "    curs.execute(ins,(title,author,year))\n",
    "    \n",
    "curs.execute('Select * FROM books')\n",
    "rows = curs.fetchall()\n",
    "print(rows)\n"
   ]
  }
 ],
 "metadata": {
  "kernelspec": {
   "display_name": "Python 3 (ipykernel)",
   "language": "python",
   "name": "python3"
  },
  "language_info": {
   "codemirror_mode": {
    "name": "ipython",
    "version": 3
   },
   "file_extension": ".py",
   "mimetype": "text/x-python",
   "name": "python",
   "nbconvert_exporter": "python",
   "pygments_lexer": "ipython3",
   "version": "3.9.13"
  }
 },
 "nbformat": 4,
 "nbformat_minor": 5
}
