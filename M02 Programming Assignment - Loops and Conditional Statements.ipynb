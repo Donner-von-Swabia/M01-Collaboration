{
 "cells": [
  {
   "cell_type": "code",
   "execution_count": 2,
   "id": "ed4e0fec",
   "metadata": {},
   "outputs": [
    {
     "name": "stdout",
     "output_type": "stream",
     "text": [
      "Too low\n"
     ]
    }
   ],
   "source": [
    "#4.1\n",
    "secret = 10\n",
    "guess = 8\n",
    "if guess == secret:\n",
    "    print(\"Just Right\")\n",
    "if guess > secret:\n",
    "    print(\"Too high\")\n",
    "if guess < secret:\n",
    "    print(\"Too low\")\n",
    "\n",
    "    "
   ]
  },
  {
   "cell_type": "code",
   "execution_count": 4,
   "id": "ffa92f04",
   "metadata": {},
   "outputs": [
    {
     "name": "stdout",
     "output_type": "stream",
     "text": [
      "pea is both green and small\n",
      "watermelon is not green and small\n",
      "pumpkin is not green and small\n",
      "cherry is not green and small\n"
     ]
    }
   ],
   "source": [
    "#4.2\n",
    "Cherry = [\"small\",\"red\",\"cherry\"]\n",
    "Pea = [\"small\",\"green\",\"pea\"]\n",
    "Watermelon = [\"large\",\"green\",\"watermelon\"]\n",
    "Pumpkin = [\"large\",\"orange\",\"pumpkin\"]\n",
    "Fruit =[Pea,Watermelon,Pumpkin,Cherry]\n",
    "for x in range(0,4):\n",
    "    if ((Fruit[x])[0]) == \"small\":\n",
    "        if ((Fruit[x])[1])==\"green\":\n",
    "            print(((Fruit[x])[2]),\"is both green and small\")\n",
    "        else:\n",
    "            print(((Fruit[x])[2]),\"is not green and small\")\n",
    "    else:\n",
    "        print(((Fruit[x])[2]),\"is not green and small\")\n",
    "\n"
   ]
  },
  {
   "cell_type": "code",
   "execution_count": 6,
   "id": "6ae0a2b1",
   "metadata": {},
   "outputs": [
    {
     "name": "stdout",
     "output_type": "stream",
     "text": [
      "3\n",
      "2\n",
      "1\n",
      "0\n"
     ]
    }
   ],
   "source": [
    "#6.1\n",
    "List = [3,2,1,0]\n",
    "for x in range(len(List)):\n",
    "    print(List[x])"
   ]
  },
  {
   "cell_type": "code",
   "execution_count": 9,
   "id": "65d3922f",
   "metadata": {},
   "outputs": [
    {
     "name": "stdout",
     "output_type": "stream",
     "text": [
      "Enter guess3\n",
      "Too low\n",
      "Enter guess5\n",
      "Too low\n",
      "Enter guess7\n",
      "Found It\n"
     ]
    }
   ],
   "source": [
    "#6.2\n",
    "Guess_me = 7\n",
    "Number = 1\n",
    "check = False\n",
    "while check != True:\n",
    "    number = int(input(\"Enter guess\"))\n",
    "    if number == Guess_me:\n",
    "        check = True\n",
    "        print(\"Found It\")\n",
    "    if number > Guess_me:\n",
    "        print(\"Opps\")\n",
    "    if number <Guess_me:\n",
    "        print(\"Too low\")\n",
    "        "
   ]
  },
  {
   "cell_type": "code",
   "execution_count": null,
   "id": "eb003cf3",
   "metadata": {},
   "outputs": [],
   "source": [
    "#6.3\n",
    "Guess_me = 5\n",
    "number = 0\n",
    "for x in range(10):\n",
    "    number = int(input(\"Enter guess\"))\n",
    "    if number == Guess_me:\n",
    "        print(\"Found It\")\n",
    "        break\n",
    "    if number > Guess_me:\n",
    "        print(\"Opps\")\n",
    "    if number <Guess_me:\n",
    "        print(\"Too low\")\n"
   ]
  },
  {
   "cell_type": "code",
   "execution_count": null,
   "id": "d8d86539",
   "metadata": {},
   "outputs": [],
   "source": []
  }
 ],
 "metadata": {
  "kernelspec": {
   "display_name": "Python 3 (ipykernel)",
   "language": "python",
   "name": "python3"
  },
  "language_info": {
   "codemirror_mode": {
    "name": "ipython",
    "version": 3
   },
   "file_extension": ".py",
   "mimetype": "text/x-python",
   "name": "python",
   "nbconvert_exporter": "python",
   "pygments_lexer": "ipython3",
   "version": "3.9.13"
  }
 },
 "nbformat": 4,
 "nbformat_minor": 5
}
