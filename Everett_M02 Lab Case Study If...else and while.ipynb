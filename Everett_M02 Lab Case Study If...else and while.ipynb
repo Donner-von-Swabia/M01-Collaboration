{
 "cells": [
  {
   "cell_type": "code",
   "execution_count": 2,
   "id": "aa26682c",
   "metadata": {},
   "outputs": [],
   "source": [
    "#Seth Everett\n",
    "#Case Study: If... Else and While (Dean's list and Honor Roll list GPA Calculator)\n",
    "#Ask user for student informaiton then provide if they are on the dean and honor roll list\n",
    "\n",
    "\n",
    "\n",
    "Student_Last_Name=[]\n",
    "Student_First_Name = []\n",
    "Student_GPA =[]\n",
    "\n",
    "def main():\n",
    "    adding_students()\n",
    "    print(\"Student Name  GPA    Dean List    Honor Roll List\")\n",
    "    dean_list_check()\n",
    "    honor_roll_check()\n",
    "\n",
    "def adding_students():\n",
    "    Answer = \"\"\n",
    "    while Answer != \"ZZZ\":\n",
    "        Answer = input(\"Enter the student's last name\")\n",
    "        if Answer == \"ZZZ\":\n",
    "            break\n",
    "        else:\n",
    "            Student_Last_Name.append(Answer)\n",
    "            Student_First_Name.append(input(\"Enter the student's first name\"))\n",
    "            Student_GPA.append(float(input(\"Enter the student's GPA\")))\n",
    "            \n",
    "def dean_list_check():\n",
    "    for x in range(len(Student_Last_Name)):\n",
    "        if Student_GPA[x] >= 3.5:\n",
    "            print(Student_First_Name[x],Student_Last_Name[x],\"  \", Student_GPA[x],\" Y        Y \")\n",
    "def honor_roll_check():\n",
    "    for x in range(len(Student_Last_Name)):\n",
    "        if (Student_GPA[x] > 3.25) and (Student_GPA[x] < 3.5):\n",
    "            print(Student_First_Name[x],Student_Last_Name[x],\"  \", Student_GPA[x],\" N        Y \")\n"
   ]
  },
  {
   "cell_type": "code",
   "execution_count": null,
   "id": "e08f954c",
   "metadata": {},
   "outputs": [],
   "source": []
  }
 ],
 "metadata": {
  "kernelspec": {
   "display_name": "Python 3 (ipykernel)",
   "language": "python",
   "name": "python3"
  },
  "language_info": {
   "codemirror_mode": {
    "name": "ipython",
    "version": 3
   },
   "file_extension": ".py",
   "mimetype": "text/x-python",
   "name": "python",
   "nbconvert_exporter": "python",
   "pygments_lexer": "ipython3",
   "version": "3.9.13"
  }
 },
 "nbformat": 4,
 "nbformat_minor": 5
}
