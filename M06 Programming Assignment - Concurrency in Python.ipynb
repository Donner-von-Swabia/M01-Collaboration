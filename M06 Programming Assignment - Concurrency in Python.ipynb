{
 "cells": [
  {
   "cell_type": "code",
   "execution_count": 5,
   "id": "391a75ed",
   "metadata": {},
   "outputs": [],
   "source": [
    "\"\"\"\n",
    "13.1 - Write the current date as a string to the text file today.txt\n",
    "\"\"\"\n",
    "from datetime import date\n",
    "now = date.today()\n",
    "Today = str(now)\n",
    "with open('today.txt','w') as f:\n",
    "    f.write(Today)"
   ]
  },
  {
   "cell_type": "code",
   "execution_count": 8,
   "id": "9f7e500c",
   "metadata": {},
   "outputs": [
    {
     "name": "stdout",
     "output_type": "stream",
     "text": [
      "['2023-02-22']\n"
     ]
    }
   ],
   "source": [
    "\"\"\"\n",
    "13.2 - Read the text file today.txt into the string today_string.\n",
    "\"\"\"\n",
    "Today = open(\"today.txt\",'r')\n",
    "today_string = Today.readlines()\n",
    "print(today_string)"
   ]
  },
  {
   "cell_type": "code",
   "execution_count": 15,
   "id": "5df1cc52",
   "metadata": {},
   "outputs": [
    {
     "name": "stdout",
     "output_type": "stream",
     "text": [
      "['2023-02-22']\n",
      "Month:  02\n",
      "Day:  22\n",
      "Year:  2023\n"
     ]
    }
   ],
   "source": [
    "\"\"\"\n",
    "13.3 Parse the date from today_string.\n",
    "\"\"\"\n",
    "Today = open(\"today.txt\",'r')\n",
    "today_string = Today.readlines()\n",
    "print(today_string)\n",
    "date = (today_string[0])\n",
    "today = date.split('-')\n",
    "print(\"Month: \", today[1])\n",
    "print(\"Day: \", today[2])\n",
    "print(\"Year: \", today[0])"
   ]
  },
  {
   "cell_type": "code",
   "execution_count": 42,
   "id": "9e064c6a",
   "metadata": {},
   "outputs": [
    {
     "name": "stdout",
     "output_type": "stream",
     "text": [
      "1677044997.383847\n",
      "0.4183093237833938\n",
      "0.8411401357122064\n",
      "0.7841178011316983\n"
     ]
    }
   ],
   "source": [
    "\"\"\"\n",
    "15.1 Use multiprocessing to create three separate processes. Make each one wait a random number of seconds between zero and one\n",
    "        wait a random number of seconds between zero and one, print the current time, and then exit.\n",
    "\"\"\"\n",
    "import multiprocessing\n",
    "import os\n",
    "import random\n",
    "import time\n",
    "print(time.time())\n",
    "\n",
    "def pdate(timer):\n",
    "    time.sleep(timer)\n",
    "    print(time.time())\n",
    "    \n",
    "        \n",
    "\n",
    "for n in range(3):\n",
    "    timer = random.uniform(0.1,1.0)\n",
    "    p = multiprocessing.Process(target=pdate, args=(timer,),)\n",
    "    print(timer)\n",
    "    p.start()\n"
   ]
  },
  {
   "cell_type": "code",
   "execution_count": null,
   "id": "b6474178",
   "metadata": {},
   "outputs": [],
   "source": []
  },
  {
   "cell_type": "code",
   "execution_count": null,
   "id": "85f911b7",
   "metadata": {},
   "outputs": [],
   "source": []
  }
 ],
 "metadata": {
  "kernelspec": {
   "display_name": "Python 3 (ipykernel)",
   "language": "python",
   "name": "python3"
  },
  "language_info": {
   "codemirror_mode": {
    "name": "ipython",
    "version": 3
   },
   "file_extension": ".py",
   "mimetype": "text/x-python",
   "name": "python",
   "nbconvert_exporter": "python",
   "pygments_lexer": "ipython3",
   "version": "3.9.13"
  }
 },
 "nbformat": 4,
 "nbformat_minor": 5
}
