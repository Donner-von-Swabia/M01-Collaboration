{
 "cells": [
  {
   "cell_type": "code",
   "execution_count": 2,
   "id": "e3ba1e16",
   "metadata": {},
   "outputs": [
    {
     "name": "stdout",
     "output_type": "stream",
     "text": [
      "['mozzarella', 'cinderella', 'salmonella']\n"
     ]
    }
   ],
   "source": [
    "#7.4\n",
    "things = [\"mozzarella\",\"cinderella\",\"salmonella\"]\n",
    "print(things)\n"
   ]
  },
  {
   "cell_type": "code",
   "execution_count": 3,
   "id": "19aaec9f",
   "metadata": {},
   "outputs": [
    {
     "name": "stdout",
     "output_type": "stream",
     "text": [
      "['MOZZARELLA', 'CINDERELLA', 'SALMONELLA']\n"
     ]
    }
   ],
   "source": [
    "#7.5\n",
    "things = [\"mozzarella\",\"cinderella\",\"salmonella\"]\n",
    "for x in range(len(things)):\n",
    "    things[x] = things[x].upper()\n",
    "print(things)\n"
   ]
  },
  {
   "cell_type": "code",
   "execution_count": 4,
   "id": "69e116ac",
   "metadata": {},
   "outputs": [
    {
     "name": "stdout",
     "output_type": "stream",
     "text": [
      "['MOZZARELLA', 'cinderella', 'salmonella']\n"
     ]
    }
   ],
   "source": [
    "#7.6\n",
    "things = [\"mozzarella\",\"cinderella\",\"salmonella\"]\n",
    "for x in range(len(things)):\n",
    "    if things[x] == \"mozzarella\":\n",
    "        things[x] = things[x].upper()\n",
    "print(things)\n"
   ]
  },
  {
   "cell_type": "code",
   "execution_count": 5,
   "id": "5bedc567",
   "metadata": {},
   "outputs": [
    {
     "name": "stdout",
     "output_type": "stream",
     "text": [
      "['mozzarella', 'cinderella']\n"
     ]
    }
   ],
   "source": [
    "#7.7\n",
    "things = [\"mozzarella\",\"cinderella\",\"salmonella\"]\n",
    "for x in range(len(things)):\n",
    "    if things[x] == \"salmonella\":\n",
    "        things.remove(things[x])\n",
    "print(things)\n"
   ]
  },
  {
   "cell_type": "code",
   "execution_count": 6,
   "id": "d004cbdd",
   "metadata": {},
   "outputs": [],
   "source": [
    "#9.1\n",
    "def good():\n",
    "    list =[\"Harry\",\"Ron\",\"Hermione\"]\n",
    "    print(list)"
   ]
  },
  {
   "cell_type": "code",
   "execution_count": 7,
   "id": "cc39dd53",
   "metadata": {},
   "outputs": [
    {
     "name": "stdout",
     "output_type": "stream",
     "text": [
      "['Harry', 'Ron', 'Hermione']\n"
     ]
    }
   ],
   "source": [
    "good()"
   ]
  },
  {
   "cell_type": "code",
   "execution_count": 8,
   "id": "b6aaa627",
   "metadata": {},
   "outputs": [
    {
     "name": "stdout",
     "output_type": "stream",
     "text": [
      "7\n",
      "[1, 3, 5, 7, 9]\n"
     ]
    }
   ],
   "source": [
    "#9.2\n",
    "def get_odds(span):\n",
    "    list_of_odds = []\n",
    "    for x in range(span):\n",
    "        if (x % 2) == 1:\n",
    "            list_of_odds.append(x)\n",
    "    print(list_of_odds[3])\n",
    "    print(list_of_odds)\n",
    "get_odds(10)"
   ]
  },
  {
   "cell_type": "code",
   "execution_count": null,
   "id": "0decf807",
   "metadata": {},
   "outputs": [],
   "source": []
  }
 ],
 "metadata": {
  "kernelspec": {
   "display_name": "Python 3 (ipykernel)",
   "language": "python",
   "name": "python3"
  },
  "language_info": {
   "codemirror_mode": {
    "name": "ipython",
    "version": 3
   },
   "file_extension": ".py",
   "mimetype": "text/x-python",
   "name": "python",
   "nbconvert_exporter": "python",
   "pygments_lexer": "ipython3",
   "version": "3.9.13"
  }
 },
 "nbformat": 4,
 "nbformat_minor": 5
}
